{
 "cells": [
  {
   "attachments": {},
   "cell_type": "markdown",
   "metadata": {},
   "source": [
    "# Power Sum of Symmetric Polynomials\n",
    "\n",
    "[Edward Lu](https://github.com/edwardlu71/notebooks)\n",
    "\n",
    "$$ \\begin{align}\n",
    "x + y + z & = 1 \\\\\n",
    "x^{2} + y^{2} + z^{2} & = 2 \\\\\n",
    "x^{3} + y^{3} + z^{3} & = 3 \\\\\n",
    "x^{n} + y^{n} + z^{n} & = ? \n",
    "\\end{align} $$"
   ]
  },
  {
   "cell_type": "code",
   "execution_count": 19,
   "metadata": {},
   "outputs": [],
   "source": [
    "from sympy import init_printing, symbols, Sum, symarray, expand, simplify, factor\n",
    "from sympy.solvers import solve\n",
    "from sympy.polys.specialpolys import symmetric_poly\n",
    "from fractions import Fraction as frac\n",
    "from IPython.display import display\n",
    "init_printing()"
   ]
  },
  {
   "cell_type": "code",
   "execution_count": 2,
   "metadata": {},
   "outputs": [],
   "source": [
    "N = 3 # elements\n",
    "K = 11 # powers\n",
    "xs = symarray('x', N)\n",
    "xs = symbols('x_0:{}'.format(N))"
   ]
  },
  {
   "cell_type": "code",
   "execution_count": 3,
   "metadata": {},
   "outputs": [],
   "source": [
    "def s(k):\n",
    "    return (sum(xs))**k"
   ]
  },
  {
   "cell_type": "code",
   "execution_count": 4,
   "metadata": {},
   "outputs": [
    {
     "data": {
      "image/png": "[encoded data removed]",
      "text/latex": [
       "$\\displaystyle 1$"
      ],
      "text/plain": [
       "1"
      ]
     },
     "metadata": {},
     "output_type": "display_data"
    },
    {
     "data": {
      "image/png": "[encoded data removed]",
      "text/latex": [
       "$\\displaystyle x_{0} + x_{1} + x_{2}$"
      ],
      "text/plain": [
       "x₀ + x₁ + x₂"
      ]
     },
     "metadata": {},
     "output_type": "display_data"
    },
    {
     "data": {
      "image/png": "[encoded data removed]",
      "text/latex": [
       "$\\displaystyle \\left(x_{0} + x_{1} + x_{2}\\right)^{2}$"
      ],
      "text/plain": [
       "              2\n",
       "(x₀ + x₁ + x₂) "
      ]
     },
     "metadata": {},
     "output_type": "display_data"
    },
    {
     "data": {
      "image/png": "[encoded data removed]",
      "text/latex": [
       "$\\displaystyle \\left(x_{0} + x_{1} + x_{2}\\right)^{3}$"
      ],
      "text/plain": [
       "              3\n",
       "(x₀ + x₁ + x₂) "
      ]
     },
     "metadata": {},
     "output_type": "display_data"
    },
    {
     "data": {
      "image/png": "[encoded data removed]",
      "text/latex": [
       "$\\displaystyle \\left(x_{0} + x_{1} + x_{2}\\right)^{4}$"
      ],
      "text/plain": [
       "              4\n",
       "(x₀ + x₁ + x₂) "
      ]
     },
     "metadata": {},
     "output_type": "display_data"
    },
    {
     "data": {
      "image/png": "[encoded data removed]",
      "text/latex": [
       "$\\displaystyle \\left(x_{0} + x_{1} + x_{2}\\right)^{5}$"
      ],
      "text/plain": [
       "              5\n",
       "(x₀ + x₁ + x₂) "
      ]
     },
     "metadata": {},
     "output_type": "display_data"
    },
    {
     "data": {
      "image/png": "[encoded data removed]",
      "text/latex": [
       "$\\displaystyle \\left(x_{0} + x_{1} + x_{2}\\right)^{6}$"
      ],
      "text/plain": [
       "              6\n",
       "(x₀ + x₁ + x₂) "
      ]
     },
     "metadata": {},
     "output_type": "display_data"
    },
    {
     "data": {
      "image/png": "[encoded data removed]",
      "text/latex": [
       "$\\displaystyle \\left(x_{0} + x_{1} + x_{2}\\right)^{7}$"
      ],
      "text/plain": [
       "              7\n",
       "(x₀ + x₁ + x₂) "
      ]
     },
     "metadata": {},
     "output_type": "display_data"
    },
    {
     "data": {
      "image/png": "[encoded data removed]",
      "text/latex": [
       "$\\displaystyle \\left(x_{0} + x_{1} + x_{2}\\right)^{8}$"
      ],
      "text/plain": [
       "              8\n",
       "(x₀ + x₁ + x₂) "
      ]
     },
     "metadata": {},
     "output_type": "display_data"
    },
    {
     "data": {
      "image/png": "[encoded data removed]",
      "text/latex": [
       "$\\displaystyle \\left(x_{0} + x_{1} + x_{2}\\right)^{9}$"
      ],
      "text/plain": [
       "              9\n",
       "(x₀ + x₁ + x₂) "
      ]
     },
     "metadata": {},
     "output_type": "display_data"
    },
    {
     "data": {
      "image/png": "[encoded data removed]",
      "text/latex": [
       "$\\displaystyle \\left(x_{0} + x_{1} + x_{2}\\right)^{10}$"
      ],
      "text/plain": [
       "              10\n",
       "(x₀ + x₁ + x₂)  "
      ]
     },
     "metadata": {},
     "output_type": "display_data"
    }
   ],
   "source": [
    "# what's s\n",
    "nothing = [display(s(k)) for k in range(K)]"
   ]
  },
  {
   "cell_type": "code",
   "execution_count": 5,
   "metadata": {},
   "outputs": [],
   "source": [
    "# power sum of symmetric polynomials\n",
    "def p(k):\n",
    "    return sum([x**k for x in xs])"
   ]
  },
  {
   "cell_type": "code",
   "execution_count": 6,
   "metadata": {},
   "outputs": [
    {
     "data": {
      "image/png": "[encoded data removed]",
      "text/latex": [
       "$\\displaystyle 3$"
      ],
      "text/plain": [
       "3"
      ]
     },
     "metadata": {},
     "output_type": "display_data"
    },
    {
     "data": {
      "image/png": "[encoded data removed]",
      "text/latex": [
       "$\\displaystyle x_{0} + x_{1} + x_{2}$"
      ],
      "text/plain": [
       "x₀ + x₁ + x₂"
      ]
     },
     "metadata": {},
     "output_type": "display_data"
    },
    {
     "data": {
      "image/png": "[encoded data removed]",
      "text/latex": [
       "$\\displaystyle x_{0}^{2} + x_{1}^{2} + x_{2}^{2}$"
      ],
      "text/plain": [
       "  2     2     2\n",
       "x₀  + x₁  + x₂ "
      ]
     },
     "metadata": {},
     "output_type": "display_data"
    },
    {
     "data": {
      "image/png": "[encoded data removed]",
      "text/latex": [
       "$\\displaystyle x_{0}^{3} + x_{1}^{3} + x_{2}^{3}$"
      ],
      "text/plain": [
       "  3     3     3\n",
       "x₀  + x₁  + x₂ "
      ]
     },
     "metadata": {},
     "output_type": "display_data"
    },
    {
     "data": {
      "image/png": "[encoded data removed]",
      "text/latex": [
       "$\\displaystyle x_{0}^{4} + x_{1}^{4} + x_{2}^{4}$"
      ],
      "text/plain": [
       "  4     4     4\n",
       "x₀  + x₁  + x₂ "
      ]
     },
     "metadata": {},
     "output_type": "display_data"
    },
    {
     "data": {
      "image/png": "[encoded data removed]",
      "text/latex": [
       "$\\displaystyle x_{0}^{5} + x_{1}^{5} + x_{2}^{5}$"
      ],
      "text/plain": [
       "  5     5     5\n",
       "x₀  + x₁  + x₂ "
      ]
     },
     "metadata": {},
     "output_type": "display_data"
    },
    {
     "data": {
      "image/png": "[encoded data removed]",
      "text/latex": [
       "$\\displaystyle x_{0}^{6} + x_{1}^{6} + x_{2}^{6}$"
      ],
      "text/plain": [
       "  6     6     6\n",
       "x₀  + x₁  + x₂ "
      ]
     },
     "metadata": {},
     "output_type": "display_data"
    },
    {
     "data": {
      "image/png": "[encoded data removed]",
      "text/latex": [
       "$\\displaystyle x_{0}^{7} + x_{1}^{7} + x_{2}^{7}$"
      ],
      "text/plain": [
       "  7     7     7\n",
       "x₀  + x₁  + x₂ "
      ]
     },
     "metadata": {},
     "output_type": "display_data"
    },
    {
     "data": {
      "image/png": "[encoded data removed]",
      "text/latex": [
       "$\\displaystyle x_{0}^{8} + x_{1}^{8} + x_{2}^{8}$"
      ],
      "text/plain": [
       "  8     8     8\n",
       "x₀  + x₁  + x₂ "
      ]
     },
     "metadata": {},
     "output_type": "display_data"
    },
    {
     "data": {
      "image/png": "[encoded data removed]",
      "text/latex": [
       "$\\displaystyle x_{0}^{9} + x_{1}^{9} + x_{2}^{9}$"
      ],
      "text/plain": [
       "  9     9     9\n",
       "x₀  + x₁  + x₂ "
      ]
     },
     "metadata": {},
     "output_type": "display_data"
    },
    {
     "data": {
      "image/png": "[encoded data removed]",
      "text/latex": [
       "$\\displaystyle x_{0}^{10} + x_{1}^{10} + x_{2}^{10}$"
      ],
      "text/plain": [
       "  10     10     10\n",
       "x₀   + x₁   + x₂  "
      ]
     },
     "metadata": {},
     "output_type": "display_data"
    }
   ],
   "source": [
    "# what's p\n",
    "nothing = [display(p(n)) for n in range(K)]"
   ]
  },
  {
   "cell_type": "code",
   "execution_count": 7,
   "metadata": {},
   "outputs": [],
   "source": [
    "# k-th degree elementary symmetric polynomials\n",
    "def e(k):\n",
    "    if k <= N and k >= 0:\n",
    "        return symmetric_poly(k, xs)\n",
    "    else:\n",
    "        return 0"
   ]
  },
  {
   "cell_type": "code",
   "execution_count": 8,
   "metadata": {},
   "outputs": [
    {
     "data": {
      "image/png": "[encoded data removed]",
      "text/latex": [
       "$\\displaystyle 1$"
      ],
      "text/plain": [
       "1"
      ]
     },
     "metadata": {},
     "output_type": "display_data"
    },
    {
     "data": {
      "image/png": "[encoded data removed]",
      "text/latex": [
       "$\\displaystyle x_{0} + x_{1} + x_{2}$"
      ],
      "text/plain": [
       "x₀ + x₁ + x₂"
      ]
     },
     "metadata": {},
     "output_type": "display_data"
    },
    {
     "data": {
      "image/png": "[encoded data removed]",
      "text/latex": [
       "$\\displaystyle x_{0} x_{1} + x_{0} x_{2} + x_{1} x_{2}$"
      ],
      "text/plain": [
       "x₀⋅x₁ + x₀⋅x₂ + x₁⋅x₂"
      ]
     },
     "metadata": {},
     "output_type": "display_data"
    },
    {
     "data": {
      "image/png": "[encoded data removed]",
      "text/latex": [
       "$\\displaystyle x_{0} x_{1} x_{2}$"
      ],
      "text/plain": [
       "x₀⋅x₁⋅x₂"
      ]
     },
     "metadata": {},
     "output_type": "display_data"
    }
   ],
   "source": [
    "# what's e; e(k>N) == 0\n",
    "nothing = [display(e(k)) for k in range(N+1)]"
   ]
  },
  {
   "cell_type": "code",
   "execution_count": 9,
   "metadata": {},
   "outputs": [
    {
     "data": {
      "image/png": "[encoded data removed]",
      "text/latex": [
       "$\\displaystyle t^{3} - t^{2} \\left(x_{0} + x_{1} + x_{2}\\right) + t \\left(x_{0} x_{1} + x_{0} x_{2} + x_{1} x_{2}\\right) - x_{0} x_{1} x_{2}$"
      ],
      "text/plain": [
       " 3    2                                                      \n",
       "t  - t ⋅(x₀ + x₁ + x₂) + t⋅(x₀⋅x₁ + x₀⋅x₂ + x₁⋅x₂) - x₀⋅x₁⋅x₂"
      ]
     },
     "metadata": {},
     "output_type": "display_data"
    },
    {
     "data": {
      "image/png": "[encoded data removed]",
      "text/latex": [
       "$\\displaystyle \\left(t - x_{0}\\right) \\left(t - x_{1}\\right) \\left(t - x_{2}\\right)$"
      ],
      "text/plain": [
       "(t - x₀)⋅(t - x₁)⋅(t - x₂)"
      ]
     },
     "metadata": {},
     "output_type": "display_data"
    }
   ],
   "source": [
    "# what's the meaning of e(n)\n",
    "t = symbols('t')\n",
    "f = sum([t**(N-i)*e(i)*(-1)**i for i in range(N+1)])\n",
    "display(f)\n",
    "display(factor(f))"
   ]
  },
  {
   "cell_type": "code",
   "execution_count": 10,
   "metadata": {},
   "outputs": [
    {
     "data": {
      "image/png": "[encoded data removed]",
      "text/latex": [
       "$\\displaystyle x_{0}^{3} - 3 x_{0} x_{1} x_{2} + x_{1}^{3} + x_{2}^{3} - \\left(x_{0} + x_{1} + x_{2}\\right) \\left(x_{0}^{2} + x_{1}^{2} + x_{2}^{2}\\right) + \\left(x_{0} + x_{1} + x_{2}\\right) \\left(x_{0} x_{1} + x_{0} x_{2} + x_{1} x_{2}\\right)$"
      ],
      "text/plain": [
       "  3                  3     3                  ⎛  2     2     2⎞               \n",
       "x₀  - 3⋅x₀⋅x₁⋅x₂ + x₁  + x₂  - (x₀ + x₁ + x₂)⋅⎝x₀  + x₁  + x₂ ⎠ + (x₀ + x₁ + x\n",
       "\n",
       "                          \n",
       "₂)⋅(x₀⋅x₁ + x₀⋅x₂ + x₁⋅x₂)"
      ]
     },
     "metadata": {},
     "output_type": "display_data"
    },
    {
     "data": {
      "image/png": "[encoded data removed]",
      "text/latex": [
       "$\\displaystyle 0$"
      ],
      "text/plain": [
       "0"
      ]
     },
     "metadata": {},
     "output_type": "display_data"
    }
   ],
   "source": [
    "# replacing t with x0, x1, ... and sum them up, consolidated with p and e\n",
    "ft = sum([p(N-i)*e(i)*(-1)**i for i in range(N)]) + N*e(N)*(-1)**N\n",
    "display(ft)\n",
    "display(simplify(ft))"
   ]
  },
  {
   "cell_type": "markdown",
   "metadata": {},
   "source": [
    "# Newton identity\n",
    "\n",
    "$$  \\begin{align} ke_k &= \\sum_{i=1}^{k}(-1)^{i-1}e_{k-i}p_{i} \\end{align} \\tag{1} $$\n",
    "$$ n>=k>=1 $$\n",
    "\n"
   ]
  },
  {
   "cell_type": "code",
   "execution_count": 11,
   "metadata": {},
   "outputs": [
    {
     "name": "stdout",
     "output_type": "stream",
     "text": [
      "  i                                     P[i]  E[i]\n",
      "--- ---------------------------------------- -----\n",
      "000                                        0     1\n",
      "001                                        1     1\n",
      "002                                        2  -1/2\n",
      "003                                        3   1/6\n",
      "004                                     25/6     0\n",
      "005                                        6     0\n",
      "006                                   103/12     0\n",
      "007                                   221/18     0\n",
      "008                                  1265/72     0\n",
      "009                                   905/36     0\n",
      "010                                15539/432     0\n"
     ]
    }
   ],
   "source": [
    "# solver only for N=3\n",
    "\n",
    "P = [0]*1000\n",
    "E = [0]*1000\n",
    "P[1] = 1\n",
    "P[2] = 2\n",
    "P[3] = 3\n",
    "E[0] = 1\n",
    "E[1] = 1\n",
    "E[2] = frac((E[1]*P[1] - E[0]*P[2])/2).limit_denominator()\n",
    "E[3] = frac((E[2]*P[1] - E[1]*P[2] + E[0]*P[3])/3).limit_denominator()\n",
    "\n",
    "K = 11\n",
    "\n",
    "for k in range(4, K):\n",
    "    P[k] = frac(E[3]*P[k-3] - E[2]*P[k-2] + E[1]*P[k-1]).limit_denominator()\n",
    "    \n",
    "print(\"{0:>3} {1:>40} {2:>5}\".format(\"i\", \"P[i]\", \"E[i]\"))\n",
    "print(\"{0:>3} {1:>40} {2:>5}\".format(\"-\"*3, \"-\"*40, \"-\"*5))\n",
    "nothing = [print(\"{0:03} {1:>40} {2:>5}\".format(i, str(P[i]), str(E[i]))) for i in range(K)]\n",
    "\n"
   ]
  },
  {
   "cell_type": "markdown",
   "metadata": {},
   "source": [
    "### Traditional way to find e2, e3 and calculate p(n) \n",
    "### For N=3"
   ]
  },
  {
   "cell_type": "code",
   "execution_count": 12,
   "metadata": {},
   "outputs": [
    {
     "data": {
      "image/png": "[encoded data removed]",
      "text/latex": [
       "$\\displaystyle x_{0} x_{1} + x_{0} x_{2} + x_{1} x_{2}$"
      ],
      "text/plain": [
       "x₀⋅x₁ + x₀⋅x₂ + x₁⋅x₂"
      ]
     },
     "metadata": {},
     "output_type": "display_data"
    },
    {
     "data": {
      "image/png": "[encoded data removed]",
      "text/latex": [
       "$\\displaystyle x_{0} x_{1} + x_{0} x_{2} + x_{1} x_{2}$"
      ],
      "text/plain": [
       "x₀⋅x₁ + x₀⋅x₂ + x₁⋅x₂"
      ]
     },
     "metadata": {},
     "output_type": "display_data"
    }
   ],
   "source": [
    "# How to calculate e(2)\n",
    "# e(2) = (s(2) - p(2))/2 = -1/2\n",
    "display(e(2))\n",
    "display(expand(s(2) - p(2))/2)"
   ]
  },
  {
   "cell_type": "code",
   "execution_count": 13,
   "metadata": {},
   "outputs": [
    {
     "data": {
      "image/png": "[encoded data removed]",
      "text/latex": [
       "$\\displaystyle x_{0} x_{1} x_{2}$"
      ],
      "text/plain": [
       "x₀⋅x₁⋅x₂"
      ]
     },
     "metadata": {},
     "output_type": "display_data"
    },
    {
     "data": {
      "image/png": "[encoded data removed]",
      "text/latex": [
       "$\\displaystyle x_{0} x_{1} x_{2}$"
      ],
      "text/plain": [
       "x₀⋅x₁⋅x₂"
      ]
     },
     "metadata": {},
     "output_type": "display_data"
    }
   ],
   "source": [
    "# How to calculate e(3)\n",
    "# e(3) = 1/6\n",
    "display(e(3))\n",
    "display(expand(e(2)*p(1) - e(1)*p(2) + e(0)*p(3))/3) "
   ]
  },
  {
   "cell_type": "code",
   "execution_count": 14,
   "metadata": {},
   "outputs": [
    {
     "data": {
      "image/png": "[encoded data removed]",
      "text/latex": [
       "$\\displaystyle x_{0}^{4} + x_{1}^{4} + x_{2}^{4}$"
      ],
      "text/plain": [
       "  4     4     4\n",
       "x₀  + x₁  + x₂ "
      ]
     },
     "metadata": {},
     "output_type": "display_data"
    },
    {
     "data": {
      "image/png": "[encoded data removed]",
      "text/latex": [
       "$\\displaystyle x_{0}^{2} x_{1} x_{2} + x_{0} x_{1}^{2} x_{2} + x_{0} x_{1} x_{2}^{2}$"
      ],
      "text/plain": [
       "  2              2              2\n",
       "x₀ ⋅x₁⋅x₂ + x₀⋅x₁ ⋅x₂ + x₀⋅x₁⋅x₂ "
      ]
     },
     "metadata": {},
     "output_type": "display_data"
    },
    {
     "data": {
      "image/png": "[encoded data removed]",
      "text/latex": [
       "$\\displaystyle x_{0}^{3} x_{1} + x_{0}^{3} x_{2} + x_{0}^{2} x_{1} x_{2} + x_{0} x_{1}^{3} + x_{0} x_{1}^{2} x_{2} + x_{0} x_{1} x_{2}^{2} + x_{0} x_{2}^{3} + x_{1}^{3} x_{2} + x_{1} x_{2}^{3}$"
      ],
      "text/plain": [
       "  3        3        2              3        2              2        3     3   \n",
       "x₀ ⋅x₁ + x₀ ⋅x₂ + x₀ ⋅x₁⋅x₂ + x₀⋅x₁  + x₀⋅x₁ ⋅x₂ + x₀⋅x₁⋅x₂  + x₀⋅x₂  + x₁ ⋅x₂\n",
       "\n",
       "        3\n",
       " + x₁⋅x₂ "
      ]
     },
     "metadata": {},
     "output_type": "display_data"
    },
    {
     "data": {
      "image/png": "[encoded data removed]",
      "text/latex": [
       "$\\displaystyle x_{0}^{4} + x_{0}^{3} x_{1} + x_{0}^{3} x_{2} + x_{0} x_{1}^{3} + x_{0} x_{2}^{3} + x_{1}^{4} + x_{1}^{3} x_{2} + x_{1} x_{2}^{3} + x_{2}^{4}$"
      ],
      "text/plain": [
       "  4     3        3           3        3     4     3           3     4\n",
       "x₀  + x₀ ⋅x₁ + x₀ ⋅x₂ + x₀⋅x₁  + x₀⋅x₂  + x₁  + x₁ ⋅x₂ + x₁⋅x₂  + x₂ "
      ]
     },
     "metadata": {},
     "output_type": "display_data"
    },
    {
     "data": {
      "text/plain": [
       "(None, None)"
      ]
     },
     "execution_count": 14,
     "metadata": {},
     "output_type": "execute_result"
    }
   ],
   "source": [
    "display(simplify(e(3)*p(1) - e(2)*p(2) + e(1)*p(3)))\n",
    "# show each piece\n",
    "display(expand(e(3)*p(1))); display(expand(e(2)*p(2))), display(expand(e(1)*p(3)))"
   ]
  },
  {
   "cell_type": "code",
   "execution_count": 15,
   "metadata": {},
   "outputs": [
    {
     "data": {
      "image/png": "[encoded data removed]",
      "text/latex": [
       "$\\displaystyle x_{0}^{5} + x_{1}^{5} + x_{2}^{5}$"
      ],
      "text/plain": [
       "  5     5     5\n",
       "x₀  + x₁  + x₂ "
      ]
     },
     "metadata": {},
     "output_type": "display_data"
    }
   ],
   "source": [
    "display(simplify(e(3)*p(2) - e(2)*p(3) + e(1)*p(4)))"
   ]
  },
  {
   "cell_type": "code",
   "execution_count": 16,
   "metadata": {},
   "outputs": [
    {
     "data": {
      "image/png": "[encoded data removed]",
      "text/latex": [
       "$\\displaystyle x_{0}^{6} + x_{1}^{6} + x_{2}^{6}$"
      ],
      "text/plain": [
       "  6     6     6\n",
       "x₀  + x₁  + x₂ "
      ]
     },
     "metadata": {},
     "output_type": "display_data"
    }
   ],
   "source": [
    "display(simplify(e(3)*p(3) - e(2)*p(4) + e(1)*p(5)))"
   ]
  },
  {
   "cell_type": "code",
   "execution_count": 17,
   "metadata": {},
   "outputs": [
    {
     "data": {
      "image/png": "[encoded data removed]",
      "text/latex": [
       "$\\displaystyle x_{0}^{7} + x_{1}^{7} + x_{2}^{7}$"
      ],
      "text/plain": [
       "  7     7     7\n",
       "x₀  + x₁  + x₂ "
      ]
     },
     "metadata": {},
     "output_type": "display_data"
    }
   ],
   "source": [
    "display(simplify(e(3)*p(4) - e(2)*p(5) + e(1)*p(6)))"
   ]
  },
  {
   "cell_type": "code",
   "execution_count": 18,
   "metadata": {},
   "outputs": [
    {
     "data": {
      "image/png": "[encoded data removed]",
      "text/latex": [
       "$\\displaystyle x_{0}^{8} + x_{1}^{8} + x_{2}^{8}$"
      ],
      "text/plain": [
       "  8     8     8\n",
       "x₀  + x₁  + x₂ "
      ]
     },
     "metadata": {},
     "output_type": "display_data"
    }
   ],
   "source": [
    "display(simplify(e(3)*p(5) - e(2)*p(6) + e(1)*p(7)))"
   ]
  }
 ],
 "metadata": {
  "kernelspec": {
   "display_name": "Python 3",
   "language": "python",
   "name": "python3"
  },
  "language_info": {
   "codemirror_mode": {
    "name": "ipython",
    "version": 3
   },
   "file_extension": ".py",
   "mimetype": "text/x-python",
   "name": "python",
   "nbconvert_exporter": "python",
   "pygments_lexer": "ipython3",
   "version": "3.6.9"
  }
 },
 "nbformat": 4,
 "nbformat_minor": 2
}
