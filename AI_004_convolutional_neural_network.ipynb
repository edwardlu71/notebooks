{
 "cells": [
  {
   "cell_type": "markdown",
   "metadata": {},
   "source": [
    "# Neural Network (nn)\n",
    "\n",
    "[Edward Lu](https://github.com/edwardlu71/notebooks)\n",
    "\n",
    "### Convolutional Neural Network\n",
    "\n",
    "- a class of deep neural network\n",
    "- each neuron in one layer is connected to all neurons in the next layer, multilayer perceptrons\n",
    "- multiple hidden layers, the hidden layers of a CNN typically consist of a series of convolutional layers that convolve with a multiplication or other dot product.\n",
    "- activation function is commonly a RELU layer\n",
    "\n"
   ]
  },
  {
   "cell_type": "markdown",
   "metadata": {},
   "source": [
    "## Standard example of handwritten digits recognition (MNIST)\n",
    "\n",
    "[example](https://towardsdatascience.com/image-classification-in-10-minutes-with-mnist-dataset-54c35b77a38d)"
   ]
  },
  {
   "cell_type": "code",
   "execution_count": 1,
   "metadata": {},
   "outputs": [],
   "source": [
    "%matplotlib inline\n",
    "import torch\n",
    "import torch.nn as nn\n",
    "import torchvision\n",
    "import torchvision.transforms as transforms\n",
    "import matplotlib.pyplot as plt\n",
    "import numpy as np\n",
    "from time import time, sleep\n",
    "import os\n",
    "from random import randint"
   ]
  },
  {
   "cell_type": "code",
   "execution_count": 2,
   "metadata": {},
   "outputs": [],
   "source": [
    "# Hyper-parameters\n",
    "#\n",
    "# 28x28 size pixel of an image for input\n",
    "input_size = 784\n",
    "# size of middle layers\n",
    "hidden_size = 500\n",
    "# output size, characters of 0-9\n",
    "num_classes = 10\n",
    "\n",
    "# training parameters\n",
    "num_epochs = 3\n",
    "batch_size = 100\n",
    "learning_rate = 0.001"
   ]
  },
  {
   "cell_type": "code",
   "execution_count": 3,
   "metadata": {},
   "outputs": [
    {
     "name": "stdout",
     "output_type": "stream",
     "text": [
      "Downloading http://yann.lecun.com/exdb/mnist/train-images-idx3-ubyte.gz to ./data/MNIST/raw/train-images-idx3-ubyte.gz\n"
     ]
    },
    {
     "name": "stderr",
     "output_type": "stream",
     "text": [
      "100.1%"
     ]
    },
    {
     "name": "stdout",
     "output_type": "stream",
     "text": [
      "Extracting ./data/MNIST/raw/train-images-idx3-ubyte.gz to ./data/MNIST/raw\n",
      "Downloading http://yann.lecun.com/exdb/mnist/train-labels-idx1-ubyte.gz to ./data/MNIST/raw/train-labels-idx1-ubyte.gz\n"
     ]
    },
    {
     "name": "stderr",
     "output_type": "stream",
     "text": [
      "113.5%"
     ]
    },
    {
     "name": "stdout",
     "output_type": "stream",
     "text": [
      "Extracting ./data/MNIST/raw/train-labels-idx1-ubyte.gz to ./data/MNIST/raw\n",
      "Downloading http://yann.lecun.com/exdb/mnist/t10k-images-idx3-ubyte.gz to ./data/MNIST/raw/t10k-images-idx3-ubyte.gz\n"
     ]
    },
    {
     "name": "stderr",
     "output_type": "stream",
     "text": [
      "100.4%"
     ]
    },
    {
     "name": "stdout",
     "output_type": "stream",
     "text": [
      "Extracting ./data/MNIST/raw/t10k-images-idx3-ubyte.gz to ./data/MNIST/raw\n",
      "Downloading http://yann.lecun.com/exdb/mnist/t10k-labels-idx1-ubyte.gz to ./data/MNIST/raw/t10k-labels-idx1-ubyte.gz\n"
     ]
    },
    {
     "name": "stderr",
     "output_type": "stream",
     "text": [
      "180.4%/pytorch/torch/csrc/utils/tensor_numpy.cpp:141: UserWarning: The given NumPy array is not writeable, and PyTorch does not support non-writeable tensors. This means you can write to the underlying (supposedly non-writeable) NumPy array using the tensor. You may want to copy the array to protect its data or make it writeable before converting it to a tensor. This type of warning will be suppressed for the rest of this program.\n"
     ]
    },
    {
     "name": "stdout",
     "output_type": "stream",
     "text": [
      "Extracting ./data/MNIST/raw/t10k-labels-idx1-ubyte.gz to ./data/MNIST/raw\n",
      "Processing...\n",
      "Done!\n"
     ]
    }
   ],
   "source": [
    "# data source\n",
    "#\n",
    "# load the data from MNIST dataset to local disk\n",
    "train_dataset = torchvision.datasets.MNIST(root='./data', train=True, transform=transforms.ToTensor(), download=True)\n",
    "test_dataset = torchvision.datasets.MNIST(root='./data', train=False, transform=transforms.ToTensor())\n",
    "# Data loader len(train_loader) = 600, so total 600x100 images\n",
    "train_loader = torch.utils.data.DataLoader(dataset=train_dataset, batch_size=batch_size, shuffle=True)\n",
    "test_loader = torch.utils.data.DataLoader(dataset=test_dataset, batch_size=batch_size, shuffle=False)"
   ]
  },
  {
   "cell_type": "code",
   "execution_count": 4,
   "metadata": {},
   "outputs": [],
   "source": [
    "data_iter = iter(test_loader)"
   ]
  },
  {
   "cell_type": "code",
   "execution_count": 5,
   "metadata": {},
   "outputs": [
    {
     "data": {
      "image/png": "[encoded data removed]",
      "text/plain": [
       "<Figure size 432x288 with 20 Axes>"
      ]
     },
     "metadata": {
      "needs_background": "light"
     },
     "output_type": "display_data"
    },
    {
     "name": "stdout",
     "output_type": "stream",
     "text": [
      "[7 2 1 0 4 1 4 9 5 9 0 6 9 0 1 5 9 7 3 4]\n"
     ]
    }
   ],
   "source": [
    "# example_data.size() = torch.Size([100, 1, 28, 28]). It's 4 dim data of 100 samples, 1 color, 28x28 pixels\n",
    "# example_data stores 100 samples of image data of 0-9 characters; example_targets stores the 100 actual characters of the images\n",
    "images, labels = data_iter.next()\n",
    "\n",
    "# debug: show the first 6 images\n",
    "for i in range(20):\n",
    "    plt.subplot(2, 10, i+1) # 2 x 5 subplots\n",
    "    plt.imshow(images[i][0], cmap='gray')\n",
    "plt.show()\n",
    "\n",
    "print(labels.numpy()[:20])\n"
   ]
  },
  {
   "cell_type": "code",
   "execution_count": 6,
   "metadata": {},
   "outputs": [],
   "source": [
    "# Fully connected neural network with one hidden layer\n",
    "class NeuralNet(nn.Module):\n",
    "    def __init__(self, input_size, hidden_size, num_classes):\n",
    "        super(NeuralNet, self).__init__()\n",
    "        self.input_size = input_size\n",
    "        self.l1 = nn.Linear(input_size, hidden_size)\n",
    "        self.relu = nn.ReLU()\n",
    "        self.l2 = nn.Linear(hidden_size, num_classes)\n",
    "\n",
    "    def forward(self, x):\n",
    "        out = self.l1(x)\n",
    "        out = self.relu(out)\n",
    "        out = self.l2(out)\n",
    "        # no activation and no softmax at the end\n",
    "        return out"
   ]
  },
  {
   "cell_type": "markdown",
   "metadata": {},
   "source": [
    "### Training\n",
    "\n",
    "- trained model is saved in file ./mnist"
   ]
  },
  {
   "cell_type": "code",
   "execution_count": 10,
   "metadata": {},
   "outputs": [
    {
     "name": "stdout",
     "output_type": "stream",
     "text": [
      "Epoch [1/3], Step [0/600], Loss: 2.3074\n",
      "Epoch [1/3], Step [100/600], Loss: 0.2860\n",
      "Epoch [1/3], Step [200/600], Loss: 0.2090\n",
      "Epoch [1/3], Step [300/600], Loss: 0.1362\n",
      "Epoch [1/3], Step [400/600], Loss: 0.1277\n",
      "Epoch [1/3], Step [500/600], Loss: 0.1242\n",
      "Epoch [2/3], Step [0/600], Loss: 0.1577\n",
      "Epoch [2/3], Step [100/600], Loss: 0.0661\n",
      "Epoch [2/3], Step [200/600], Loss: 0.1856\n",
      "Epoch [2/3], Step [300/600], Loss: 0.1093\n",
      "Epoch [2/3], Step [400/600], Loss: 0.0739\n",
      "Epoch [2/3], Step [500/600], Loss: 0.1091\n",
      "Epoch [3/3], Step [0/600], Loss: 0.0273\n",
      "Epoch [3/3], Step [100/600], Loss: 0.1515\n",
      "Epoch [3/3], Step [200/600], Loss: 0.1505\n",
      "Epoch [3/3], Step [300/600], Loss: 0.0716\n",
      "Epoch [3/3], Step [400/600], Loss: 0.0480\n",
      "Epoch [3/3], Step [500/600], Loss: 0.0419\n"
     ]
    },
    {
     "name": "stderr",
     "output_type": "stream",
     "text": [
      "/usr/local/lib/python3.6/dist-packages/torch/serialization.py:402: UserWarning: Couldn't retrieve source code for container of type NeuralNet. It won't be checked for correctness upon loading.\n",
      "  \"type \" + obj.__name__ + \". It won't be checked \"\n"
     ]
    }
   ],
   "source": [
    "torch.manual_seed(int(time()))\n",
    "device = torch.device('cpu')\n",
    "\n",
    "if os.path.isfile(\"./mnist\"):\n",
    "    model = torch.load(\"./mnist\", map_location=lambda storage, loc: storage)\n",
    "    model.eval()\n",
    "else:\n",
    "    model = NeuralNet(input_size, hidden_size, num_classes).to(device)\n",
    "\n",
    "    # define Loss function and choose optimizer\n",
    "    criterion = nn.CrossEntropyLoss()\n",
    "    optimizer = torch.optim.Adam(model.parameters(), lr=learning_rate)\n",
    "\n",
    "    # Train the model\n",
    "    n_total_steps = len(train_loader)\n",
    "    for epoch in range(num_epochs):\n",
    "        for i, (images, labels) in enumerate(train_loader):\n",
    "            # loop 600 times, each time with 100 images + labels in a batch.\n",
    "            #\n",
    "            # images origin shape: [100, 1, 28, 28]\n",
    "            # resized: [100, 784] = images is a 100 size batch each with 784 inputs for one image\n",
    "            images = images.reshape(-1, 28*28).to(device)\n",
    "            labels = labels.to(device)\n",
    "\n",
    "            # Forward pass\n",
    "            #\n",
    "            # outputs with shape [100, 10] for the result of 100 size batch, each with output of possibility on 0-9 charactors\n",
    "            outputs = model(images)\n",
    "            # how likely the predicted in output matches real characters in labels. loss is only one figure as result of a 100 size batch training\n",
    "            loss = criterion(outputs, labels)\n",
    "\n",
    "            # Backward and optimize\n",
    "            #\n",
    "            # cleanup the history first\n",
    "            optimizer.zero_grad()\n",
    "            # dLoss/dWeights\n",
    "            loss.backward()\n",
    "            # adjust weights from dLoss/dWeights\n",
    "            optimizer.step()\n",
    "\n",
    "            if i % 100 == 0:\n",
    "                print (f'Epoch [{epoch+1}/{num_epochs}], Step [{i}/{n_total_steps}], Loss: {loss.item():.4f}')\n",
    "\n",
    "    torch.save(model, \"mnist\")"
   ]
  },
  {
   "cell_type": "code",
   "execution_count": 11,
   "metadata": {},
   "outputs": [
    {
     "name": "stdout",
     "output_type": "stream",
     "text": [
      "Accuracy of the network on the 10000 test images: 97.44 %\n"
     ]
    }
   ],
   "source": [
    "# Test the model\n",
    "# In test phase, we don't need to compute gradients (for memory efficiency)\n",
    "with torch.no_grad():\n",
    "    n_correct = 0\n",
    "    n_samples = 0\n",
    "    for images, labels in test_loader:\n",
    "        images = images.reshape(-1, 28*28).to(device)\n",
    "        labels = labels.to(device)\n",
    "        outputs = model(images)\n",
    "        # max returns (value ,index)\n",
    "        _, predicted = torch.max(outputs.data, 1)\n",
    "        n_samples += labels.size(0)\n",
    "        n_correct += (predicted == labels).sum().item()\n",
    "\n",
    "    acc = 100.0 * n_correct / n_samples\n",
    "    print(f'Accuracy of the network on the 10000 test images: {acc} %')"
   ]
  },
  {
   "cell_type": "code",
   "execution_count": 15,
   "metadata": {},
   "outputs": [
    {
     "name": "stdout",
     "output_type": "stream",
     "text": [
      "label=6 predicted 6\n"
     ]
    },
    {
     "data": {
      "image/png": "[encoded data removed]",
      "text/plain": [
       "<Figure size 432x288 with 1 Axes>"
      ]
     },
     "metadata": {
      "needs_background": "light"
     },
     "output_type": "display_data"
    }
   ],
   "source": [
    "# region debug\n",
    "data_iter = iter(test_loader)\n",
    "images, labels = data_iter.next()\n",
    "\n",
    "images = images.reshape(-1, 28 * 28).to(device)\n",
    "labels = labels.to(device)\n",
    "outputs = model(images)\n",
    "# max returns (value ,index)\n",
    "_, predicted = torch.max(outputs.data, 1)\n",
    "\n",
    "images = images.reshape(-1, 28, 28).to(device)\n",
    "labels_np = labels.numpy()\n",
    "predicted_np = predicted.numpy()\n",
    "\n",
    "k = randint(0, 100)\n",
    "print(f\"label={labels_np[k]} predicted {predicted_np[k]}\")\n",
    "plt.imshow(images[k], cmap='gray')\n",
    "plt.show()\n",
    "# endregion"
   ]
  }
 ],
 "metadata": {
  "kernelspec": {
   "display_name": "Python 3",
   "language": "python",
   "name": "python3"
  },
  "language_info": {
   "codemirror_mode": {
    "name": "ipython",
    "version": 3
   },
   "file_extension": ".py",
   "mimetype": "text/x-python",
   "name": "python",
   "nbconvert_exporter": "python",
   "pygments_lexer": "ipython3",
   "version": "3.6.9"
  }
 },
 "nbformat": 4,
 "nbformat_minor": 2
}
