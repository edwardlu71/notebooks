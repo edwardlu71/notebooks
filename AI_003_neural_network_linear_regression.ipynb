{
 "cells": [
  {
   "cell_type": "markdown",
   "metadata": {},
   "source": [
    "# Neural Network (nn)\n",
    "\n",
    "[Edward Lu](https://github.com/edwardlu71/notebooks)\n",
    "\n",
    "### Linear Regression in 3 ways\n",
    "\n",
    "#### Supervised Learning\n",
    "the machine learning task of learning a function that maps an input to a desired output based on example input-output pairs.\n",
    "\n",
    "1. Design model (input, output size, forward pass)\n",
    "2. Construct loss and optimizer\n",
    "3. Training loop\n",
    "    - forward pass: compute prediction\n",
    "    - backward pass: gradients\n",
    "    - update weight\n"
   ]
  },
  {
   "cell_type": "markdown",
   "metadata": {},
   "source": [
    "## Generation of sample data"
   ]
  },
  {
   "cell_type": "code",
   "execution_count": 1,
   "metadata": {},
   "outputs": [],
   "source": [
    "import numpy as np\n",
    "from sklearn import datasets\n",
    "import matplotlib.pyplot as plt"
   ]
  },
  {
   "cell_type": "code",
   "execution_count": 2,
   "metadata": {},
   "outputs": [],
   "source": [
    "# 0) prepare data\n",
    "# Be aware of data shapes: X_numpy is vertical arrary of arries with one element; y_numpy is horizental array\n",
    "X_numpy, y_numpy, coef = datasets.make_regression(n_samples=100, #number of samples\n",
    "                                                  n_features=1, #number of features\n",
    "                                                  n_informative=1, #number of useful features\n",
    "                                                  noise=20, #bias and standard deviation of the guassian noise\n",
    "                                                  coef=True, #true coefficient used to generated the data\n",
    "                                                  random_state=1)"
   ]
  },
  {
   "cell_type": "code",
   "execution_count": 3,
   "metadata": {},
   "outputs": [],
   "source": [
    "# convert X_numpy to horizental array\n",
    "x_numpy = X_numpy.T[0]"
   ]
  },
  {
   "cell_type": "markdown",
   "metadata": {},
   "source": [
    "## Math of linear regression, traditonal method\n"
   ]
  },
  {
   "cell_type": "code",
   "execution_count": 4,
   "metadata": {},
   "outputs": [
    {
     "name": "stdout",
     "output_type": "stream",
     "text": [
      "mean of x and y 0.060582852075698704 9.051174996815666\n",
      "standard deviation of x and y 0.8851562138315849 75.25470813506942\n",
      "variance of x and y 0.7835015228846666 5663.2710964944845\n",
      "cov matrix of x and y: \n",
      " [[7.83501523e-01 6.46267308e+01]\n",
      " [6.46267308e+01 5.66327110e+03]]\n",
      "cov(x,y) =   64.62673081029031\n",
      "correlate coefficient matrix of x and y: \n",
      " [[1.         0.97019401]\n",
      " [0.97019401 1.        ]]\n",
      "correlation coefficient(x,y) =   0.9701940104899215\n",
      "our own calculation of r_xy from variances:  0.9701940104899212\n",
      "linear regression to line y = a + bx, where b = 82.48449929280295; a = 4.054028777621711\n"
     ]
    }
   ],
   "source": [
    "# do a traditional linear regression\n",
    "\n",
    "import math\n",
    "# ddof = 1: sample variance  \n",
    "#      = 0: population variance\n",
    "ddof = 0\n",
    "mean_x = np.mean(x_numpy)\n",
    "mean_y = np.mean(y_numpy)\n",
    "print(\"mean of x and y\", mean_x, mean_y)\n",
    "print(\"standard deviation of x and y\", np.std(x_numpy, ddof=ddof), np.std(y_numpy, ddof=ddof))\n",
    "var_x = np.var(x_numpy, ddof=ddof)\n",
    "var_y = np.var(y_numpy, ddof=ddof)\n",
    "print(\"variance of x and y\", var_x, var_y)\n",
    "print(\"cov matrix of x and y: \\n\", np.cov(x_numpy, y_numpy, ddof=ddof))\n",
    "cov_xy = np.cov(x_numpy, y_numpy, ddof=ddof)[0,1]\n",
    "print(\"cov(x,y) =  \", cov_xy)\n",
    "print('correlate coefficient matrix of x and y: \\n', np.corrcoef(x_numpy,y_numpy))\n",
    "r_xy = np.corrcoef(x_numpy,y_numpy)[0,1] # always sample variance type\n",
    "print(\"correlation coefficient(x,y) =  \", r_xy)\n",
    "print(\"our own calculation of r_xy from variances: \", math.sqrt(cov_xy**2/var_x/var_y))\n",
    "\n",
    "b = cov_xy/var_x\n",
    "a = mean_y - b * mean_x\n",
    "\n",
    "print(\"linear regression to line y = a + bx, where b = {}; a = {}\".format(b, a))\n",
    "np.correlate(x_numpy,y_numpy, mode='valid')\n",
    "\n",
    "x_hat = np.linspace(X_numpy.min(), X_numpy.max(), 1000)\n",
    "y_hat = a + b * x_hat"
   ]
  },
  {
   "cell_type": "code",
   "execution_count": 5,
   "metadata": {},
   "outputs": [
    {
     "data": {
      "text/plain": [
       "Text(0.5, 1.0, 'samples and traditional linear regression')"
      ]
     },
     "execution_count": 5,
     "metadata": {},
     "output_type": "execute_result"
    },
    {
     "data": {
      "image/png": "[encoded data removed]",
      "text/plain": [
       "<Figure size 720x360 with 1 Axes>"
      ]
     },
     "metadata": {
      "needs_background": "light"
     },
     "output_type": "display_data"
    }
   ],
   "source": [
    "# plot the data and linear regression result\n",
    "fig = plt.figure()\n",
    "fig.set_figheight(5)\n",
    "fig.set_figwidth(10)\n",
    "\n",
    "plt.ion() #interactive plot on\n",
    "plt.grid(True)\n",
    "plt.plot(X_numpy, y_numpy,'.',label='training data')\n",
    "plt.plot(x_hat, y_hat, \"r\")\n",
    "plt.xlabel('X')\n",
    "plt.ylabel('Y')\n",
    "plt.title('samples and traditional linear regression')\n"
   ]
  },
  {
   "cell_type": "markdown",
   "metadata": {},
   "source": [
    "## Use machine learning to do linear regression\n",
    "- with model\n",
    "- only one hidden layer "
   ]
  },
  {
   "cell_type": "code",
   "execution_count": 6,
   "metadata": {},
   "outputs": [],
   "source": [
    "import torch\n",
    "import torch.nn as nn"
   ]
  },
  {
   "cell_type": "code",
   "execution_count": 7,
   "metadata": {},
   "outputs": [],
   "source": [
    "# convert to tensors\n",
    "X = torch.from_numpy(X_numpy.astype(np.float32))\n",
    "y = torch.from_numpy(y_numpy.astype(np.float32))"
   ]
  },
  {
   "cell_type": "code",
   "execution_count": 8,
   "metadata": {},
   "outputs": [],
   "source": [
    "# reshape y because y has only one row (1x100), we want each value in one row and the whole shape is one column (100x1)\n",
    "y = y.view(y.shape[0], 1)"
   ]
  },
  {
   "cell_type": "code",
   "execution_count": 9,
   "metadata": {},
   "outputs": [
    {
     "name": "stdout",
     "output_type": "stream",
     "text": [
      "100 1\n"
     ]
    }
   ],
   "source": [
    "# we prepared only one feature of data. The feature has 100 data samples\n",
    "n_samples, n_features = X.shape\n",
    "print(n_samples, n_features)"
   ]
  },
  {
   "cell_type": "code",
   "execution_count": 10,
   "metadata": {},
   "outputs": [],
   "source": [
    "# 1) model\n",
    "input_size = n_features\n",
    "output_size = n_features\n",
    "model = nn.Linear(input_size, output_size)"
   ]
  },
  {
   "cell_type": "code",
   "execution_count": 11,
   "metadata": {},
   "outputs": [],
   "source": [
    "# 2) loss and optimizer\n",
    "learning_rate = 0.01\n",
    "criterion = nn.MSELoss() # mean square error in this example\n",
    "# SGD = stochastic gradient descent, instead of full data set it select some data calculation, saving cpu\n",
    "optimizer = torch.optim.SGD(model.parameters(), lr=learning_rate) # for weights update"
   ]
  },
  {
   "cell_type": "code",
   "execution_count": 12,
   "metadata": {},
   "outputs": [],
   "source": [
    "# 3) training loop\n",
    "num_epochs = 1000"
   ]
  },
  {
   "cell_type": "code",
   "execution_count": 13,
   "metadata": {},
   "outputs": [
    {
     "name": "stdout",
     "output_type": "stream",
     "text": [
      "epoch 0: loss = 5615.7715\n",
      "epoch 100: loss = 552.1051\n",
      "epoch 200: loss = 342.1024\n",
      "epoch 300: loss = 332.9890\n",
      "epoch 400: loss = 332.5863\n",
      "epoch 500: loss = 332.5685\n",
      "epoch 600: loss = 332.5676\n",
      "epoch 700: loss = 332.5676\n",
      "epoch 800: loss = 332.5676\n",
      "epoch 900: loss = 332.5676\n"
     ]
    }
   ],
   "source": [
    "# run training epoch, expect loss stable and convergent\n",
    "for epoch in range(num_epochs):\n",
    "    # prediction = forward pass and loss\n",
    "    y_predicted = model(X)\n",
    "    # loss\n",
    "    loss = criterion(y_predicted, y)\n",
    "\n",
    "    # gradient = backward pass\n",
    "    loss.backward() #dLoss/dWeight\n",
    "\n",
    "    # update weights\n",
    "    optimizer.step()\n",
    "\n",
    "    # zero gradients, clean up\n",
    "    optimizer.zero_grad()\n",
    "\n",
    "    if epoch % 100 == 0:\n",
    "        print(f\"epoch {epoch}: loss = {loss.item():.4f}\")"
   ]
  },
  {
   "cell_type": "code",
   "execution_count": 14,
   "metadata": {},
   "outputs": [],
   "source": [
    "# harvest the prediction from the trained model\n",
    "predicted = model(X).detach().numpy()"
   ]
  },
  {
   "cell_type": "code",
   "execution_count": 15,
   "metadata": {},
   "outputs": [
    {
     "data": {
      "image/png": "[encoded data removed]",
      "text/plain": [
       "<Figure size 720x360 with 1 Axes>"
      ]
     },
     "metadata": {
      "needs_background": "light"
     },
     "output_type": "display_data"
    }
   ],
   "source": [
    "# plot the original data and training result\n",
    "fig = plt.figure()\n",
    "fig.set_figheight(5)\n",
    "fig.set_figwidth(10)\n",
    "\n",
    "plt.ion() #interactive plot on\n",
    "plt.grid(True)\n",
    "plt.xlabel('X')\n",
    "plt.ylabel('Y')\n",
    "plt.title('samples for linear regression and torch result')\n",
    "plt.plot(X_numpy, y_numpy, \"ro\")\n",
    "plt.plot(X_numpy, predicted, \"b\")\n",
    "plt.show()"
   ]
  },
  {
   "cell_type": "markdown",
   "metadata": {},
   "source": [
    "## Sklearn\n",
    "\n",
    "sklearn provided the supervise learning module for linear regression"
   ]
  },
  {
   "cell_type": "code",
   "execution_count": 16,
   "metadata": {},
   "outputs": [],
   "source": [
    "# do a traditional linear regression\n",
    "from sklearn.linear_model import LinearRegression\n",
    "lr_model = LinearRegression(fit_intercept=True)\n",
    "lr_model.fit(X_numpy.T[0][:, np.newaxis], y_numpy)\n",
    "xfit = np.linspace(X_numpy.min(), X_numpy.max(), 1000)\n",
    "yfit = lr_model.predict(xfit[:, np.newaxis])"
   ]
  },
  {
   "cell_type": "code",
   "execution_count": 17,
   "metadata": {},
   "outputs": [
    {
     "data": {
      "text/plain": [
       "Text(0.5, 1.0, 'samples for linear regression and result from sklearn module')"
      ]
     },
     "execution_count": 17,
     "metadata": {},
     "output_type": "execute_result"
    },
    {
     "data": {
      "image/png": "[encoded data removed]",
      "text/plain": [
       "<Figure size 720x360 with 1 Axes>"
      ]
     },
     "metadata": {
      "needs_background": "light"
     },
     "output_type": "display_data"
    }
   ],
   "source": [
    "# plot the data and linear regression result\n",
    "fig = plt.figure()\n",
    "fig.set_figheight(5)\n",
    "fig.set_figwidth(10)\n",
    "\n",
    "plt.ion() #interactive plot on\n",
    "plt.grid(True)\n",
    "plt.plot(X_numpy, y_numpy,'.',label='training data')\n",
    "plt.plot(xfit, yfit, \"r\")\n",
    "plt.xlabel('X')\n",
    "plt.ylabel('Y')\n",
    "plt.title('samples for linear regression and result from sklearn module')"
   ]
  },
  {
   "cell_type": "code",
   "execution_count": null,
   "metadata": {},
   "outputs": [],
   "source": []
  }
 ],
 "metadata": {
  "kernelspec": {
   "display_name": "Python 3",
   "language": "python",
   "name": "python3"
  },
  "language_info": {
   "codemirror_mode": {
    "name": "ipython",
    "version": 3
   },
   "file_extension": ".py",
   "mimetype": "text/x-python",
   "name": "python",
   "nbconvert_exporter": "python",
   "pygments_lexer": "ipython3",
   "version": "3.6.9"
  }
 },
 "nbformat": 4,
 "nbformat_minor": 2
}
